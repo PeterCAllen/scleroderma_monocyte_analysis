{
 "cells": [
  {
   "cell_type": "markdown",
   "metadata": {
    "lines_to_next_cell": 0
   },
   "source": [
    "\n",
    "# Methylation Analysis\n",
    "## Author: \"Peter Allen\"\n"
   ]
  },
  {
   "cell_type": "markdown",
   "metadata": {},
   "source": [
    "<style type=\"text/css\">\n",
    "\n",
    "h1.title {\n",
    "  font-size: 38px;\n",
    "  color: DarkRed;\n",
    "  text-align: center;\n",
    "}\n",
    "h4.author { /* Header 4 - and the author and data headers use this too  */\n",
    "    font-size: 18px;\n",
    "  font-family: \"Times New Roman\", Times, serif;\n",
    "  color: DarkRed;\n",
    "  text-align: center;\n",
    "}\n",
    "\n",
    "h1, h2, h3 {\n",
    "  text-align: center;\n",
    "}\n",
    "</style>"
   ]
  },
   {
   "cell_type": "markdown",
   "metadata": {},
   "source": [
    "## Importing necessary Libraries"
   ]
  },
  {
   "cell_type": "code",
   "execution_count": null,
   "metadata": {
    "name": "import libraries",
    "tags": [
     "remove-output"
    ]
   },
   "outputs": [],
   "source": [
    "library(tidyverse)\n",
    "library(data.table)\n",
    "library(Haplin)\n",
    "library(IlluminaHumanMethylationEPICanno.ilm10b2.hg19)\n",
    "library(TxDb.Hsapiens.UCSC.hg19.knownGene)\n",
    "library(GenomicFeatures)\n",
    "library(edgeR)\n",
    "library(kableExtra)"
   ]
  },
  {
   "cell_type": "markdown",
   "metadata": {},
   "source": [
    "## Importing metadata and filtering by which have both RNA-seq & Methylation Data\n"
   ]
  },
  {
   "cell_type": "code",
   "execution_count": null,
   "metadata": {
    "name": "import data",
    "tags": [
     "remove-output"
    ]
   },
   "outputs": [],
   "source": [
    "sampleSheet <- read_csv(\"data/methyl_sampleSheet.csv\", na = \"N/A\")\n",
    "\n",
    "#replacing NA in disease_subset to healthy\n",
    "sampleSheet$disease_subset <- sampleSheet$disease_subset %>% replace_na(\"Healthy\")\n",
    "\n",
    "#matching rowname syntax to betas\n",
    "sampleSheet$sample_name <- gsub(\"-\", \".\", sampleSheet$sample_name)\n",
    "\n",
    "sampleSheet <- sampleSheet %>% column_to_rownames(var = \"sample_name\")"
   ]
  },
  {
   "cell_type": "markdown",
   "metadata": {},
   "source": [
    "## Importing Methylation Data\n",
    "\n",
    "Importing the methylation data. There are two types of beta files, imputed and nonimputed. The imputed data will be used for calculating principal components which will be used to regress out potential technical variance downstream."
   ]
  },
  {
   "cell_type": "code",
   "execution_count": null,
   "metadata": {
    "name": "methylation import methylation"
   },
   "outputs": [],
   "source": [
    "## Imputed Betas\n",
    "finalBetas_auto <- data.frame(fread(\"data/finalBetas_autos_Imp.txt\", stringsAsFactors = FALSE))\n",
    "rownames(finalBetas_auto) <- finalBetas_auto[,1]\n",
    "finalBetas_auto <- finalBetas_auto[,-1]\n",
    "colnames(finalBetas_auto)<-gsub(\"X\",\"\", colnames(finalBetas_auto))\n",
    "finalBetas_auto <- finalBetas_auto[, order(colnames(finalBetas_auto))]\n",
    "\n",
    "finalBetas_x <- data.frame(fread(\"data/finalBetas_X_Imp.txt\", stringsAsFactors = FALSE))\n",
    "rownames(finalBetas_x) <- finalBetas_x[,1]\n",
    "finalBetas_x <- finalBetas_x[,-1]\n",
    "colnames(finalBetas_x)<-gsub(\"X\",\"\", colnames(finalBetas_x))\n",
    "finalBetas_x <- finalBetas_x[, order(colnames(finalBetas_x))]\n",
    "\n",
    "finalBetasImp <- rbind(finalBetas_auto, finalBetas_x)\n",
    "\n",
    "rm(finalBetas_auto, finalBetas_x)\n",
    "\n",
    "## Non-imputed Betas\n",
    "finalBetas_auto.nonimp <- data.frame(fread(\"data/finalBetas_autos_NonImp.txt\", stringsAsFactors = FALSE))\n",
    "rownames(finalBetas_auto.nonimp) <- finalBetas_auto.nonimp[,1]\n",
    "finalBetas_auto.nonimp <- finalBetas_auto.nonimp[,-1]\n",
    "colnames(finalBetas_auto.nonimp)<-gsub(\"X\",\"\", colnames(finalBetas_auto.nonimp))\n",
    "finalBetas_auto.nonimp <- finalBetas_auto.nonimp[, order(colnames(finalBetas_auto.nonimp))]\n",
    "\n",
    "finalBetas_x.nonimp <- data.frame(fread(\"data/finalBetas_X_NonImp.txt\", stringsAsFactors = FALSE))\n",
    "rownames(finalBetas_x.nonimp) <- finalBetas_x.nonimp[,1]\n",
    "finalBetas_x.nonimp <- finalBetas_x.nonimp[,-1]\n",
    "colnames(finalBetas_x.nonimp)<-gsub(\"X\",\"\", colnames(finalBetas_x.nonimp))\n",
    "finalBetas_x.nonimp <- finalBetas_x.nonimp[, order(colnames(finalBetas_x.nonimp))]\n",
    "\n",
    "finalBetasNonImp <- rbind(finalBetas_auto.nonimp, finalBetas_x.nonimp)\n",
    "rm(finalBetas_auto.nonimp, finalBetas_x.nonimp)\n",
    "\n",
    "\n",
    "#ensure both dataset columns match\n",
    "all(colnames(finalBetasImp) == colnames(finalBetasNonImp))"
   ]
  },
  {
   "cell_type": "markdown",
   "metadata": {},
   "source": [
    "## Performing Principal Component Analysis"
   ]
  },
  {
   "cell_type": "code",
   "execution_count": null,
   "metadata": {
    "lines_to_next_cell": 2,
    "name": "pca"
   },
   "outputs": [],
   "source": [
    "pca <- prcomp(t(na.omit(finalBetasImp)))$x"
   ]
  },
  {
   "cell_type": "code",
   "execution_count": null,
   "metadata": {
    "lines_to_next_cell": 0,
    "name": "regression model"
   },
   "outputs": [],
   "source": [
    "#regression\n",
    "ssc_model <- apply(na.omit(finalBetasNonImp), 1, function(x) summary(lm(as.numeric(x)~as.factor(sampleSheet$disease_status)+ as.numeric(sampleSheet$age_at_enrollment) + as.numeric(pca[,1]) + as.numeric(pca[,2])))$coeff[2,4])\n",
    "\n",
    "# Organize & Annotate CpG Regression Results -----------------------------------------\n",
    "top_cpgs <- tibble(CpG=names(ssc_model), pval=ssc_model) %>% arrange(pval)\n",
    "\n",
    "top_cpgs <- top_cpgs %>% mutate(p.adjusted=p.adjust(top_cpgs$pval, method = \"BH\"))\n",
    "\n",
    "#created a function to name the top 500 genes\n",
    "gene_match_500 <- function(x){\n",
    "  EPIC <- getAnnotation(IlluminaHumanMethylationEPICanno.ilm10b2.hg19)\n",
    "  intersect <- match(x$CpG[1:500], rownames(EPIC))\n",
    "  EPIC <- EPIC[intersect,]\n",
    "  EPIC <- as_tibble(EPIC)\n",
    "  \n",
    "  EPIC <- EPIC %>% dplyr::select(Name, UCSC_RefGene_Name, chr, pos, Relation_to_Island)\n",
    "  \n",
    "  EPIC.granges <- data.frame(EPIC[,3:4])\n",
    "  EPIC.granges$stop <- EPIC.granges$pos+5\n",
    "  EPIC.granges$CpG <- EPIC$Name\n",
    "  \n",
    "  colnames(EPIC.granges) <- c(\"chr\", \"start\", \"stop\", \"CpG\")\n",
    "  \n",
    "  genes <- annotateTranscripts(TxDb.Hsapiens.UCSC.hg19.knownGene)\n",
    "  cpgs <- makeGRangesFromDataFrame(EPIC.granges)\n",
    "  \n",
    "  \n",
    "  epic.genes <- matchGenes(cpgs,genes) %>% as_tibble() %>% \n",
    "    add_column(CpG=x$CpG[1:500], pval=x$pval[1:500], p.adjusted=x$p.adjusted[1:500])\n",
    "  return(epic.genes)\n",
    "}\n",
    "\n",
    "top_cpgs_annotated <- gene_match_500(top_cpgs)\n",
    "\n",
    "top_cpgs_annotated[1:20,] %>% dplyr::select(CpG, name, annotation, description, pval, p.adjusted)"
   ]
  },
  {
   "cell_type": "code",
   "execution_count": null,
   "metadata": {},
   "outputs": [],
   "source": [
    "#write to output\n",
    "write_delim(top_cpgs_annotated, file = \"output/methylated_genes.txt\")"
   ]
  },
  {
   "cell_type": "code",
   "execution_count": null,
   "metadata": {},
   "outputs": [],
   "source": []
  }
 ],
 "metadata": {
  "jupytext": {
   "cell_metadata_filter": "tags,name,-all",
   "main_language": "R",
   "notebook_metadata_filter": "-all"
  },
  "kernelspec": {
   "display_name": "R",
   "language": "R",
   "name": "ir"
  },
  "language_info": {
   "codemirror_mode": "r",
   "file_extension": ".r",
   "mimetype": "text/x-r-source",
   "name": "R",
   "pygments_lexer": "r",
   "version": "4.0.1"
  }
 },
 "nbformat": 4,
 "nbformat_minor": 4
}

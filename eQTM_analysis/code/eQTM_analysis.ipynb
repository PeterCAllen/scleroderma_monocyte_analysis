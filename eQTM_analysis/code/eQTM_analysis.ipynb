{
 "cells": [
  {
   "cell_type": "markdown",
   "metadata": {
    "lines_to_next_cell": 0
   },
   "source": [
    "# eQTM Analysis\n",
    "## Author: Peter Allen"
   ]
  },
  {
   "cell_type": "markdown",
   "metadata": {},
   "source": [
    "<style type=\"text/css\">\n",
    "\n",
    "h1.title {\n",
    "  font-size: 38px;\n",
    "  color: DarkRed;\n",
    "  text-align: center;\n",
    "}\n",
    "h4.author { /* Header 4 - and the author and data headers use this too  */\n",
    "    font-size: 18px;\n",
    "  font-family: \"Times New Roman\", Times, serif;\n",
    "  color: DarkRed;\n",
    "  text-align: center;\n",
    "}\n",
    "\n",
    "h1, h2, h3 {\n",
    "  text-align: center;\n",
    "}\n",
    "</style>"
   ]
  },
    {
   "cell_type": "markdown",
   "metadata": {},
   "source": [
    "## Importing necessary Libraries"
   ]
  },
  {
   "cell_type": "code",
   "execution_count": null,
   "metadata": {
    "name": "import libraries"
   },
   "outputs": [],
   "source": [
    "library(data.table)\n",
    "library(readxl)\n",
    "library(dplyr)\n",
    "library(Haplin)\n",
    "library(IlluminaHumanMethylationEPICanno.ilm10b2.hg19)\n",
    "library(TxDb.Hsapiens.UCSC.hg19.knownGene)\n",
    "library(GenomicFeatures)\n",
    "library(edgeR)\n",
    "library(kableExtra)"
   ]
  },
  {
   "cell_type": "markdown",
   "metadata": {},
   "source": [
    "## Importing metadata and filtering by which have both RNA-seq & Methylation Data\n"
   ]
  },
  {
   "cell_type": "code",
   "execution_count": null,
   "metadata": {
    "name": "import data"
   },
   "outputs": [],
   "source": [
    "meta <- data.frame(read_excel(\"rna-seq_analysis/data/RNA_SampleData.xlsx\", col_types = c(\"skip\", \"text\", \"numeric\", \"skip\", \"skip\", \"text\", \"numeric\", \"text\", \"skip\", \"text\", \"skip\"), na = c(\".\", \"N/A\")))\n",
    "meta <- meta[meta$Methyl.Array.data.ID %like% \"PSR\",]\n",
    "rownames(meta) <- meta[,1]\n",
    "meta <- meta[,-1]\n",
    "rownames(meta) <- gsub(\"-\",\".\", rownames(meta))\n",
    "meta$SSc.subset..lim.diff..or.sine[which(is.na(meta$SSc.subset..lim.diff..or.sine))] <- \"Healthy\"\n",
    "meta <- meta %>% filter(!is.na(RNA.seq.data.ID))"
   ]
  },
  {
   "cell_type": "markdown",
   "metadata": {},
   "source": [
    "## Importing Methylation Data\n",
    "\n",
    "Importing the methylation data. There are two types of beta files, imputed and nonimputed. The imputed data will be used for calculating principal components which will be used to regress out potential technical variance downstream."
   ]
  },
  {
   "cell_type": "code",
   "execution_count": null,
   "metadata": {
    "name": "methylation import methylation"
   },
   "outputs": [],
   "source": [
    "## Imputed Betas\n",
    "finalBetas_auto <- data.frame(fread(\"methylation_analysis/data/finalBetas_autos_Imp.txt\", stringsAsFactors = FALSE))\n",
    "rownames(finalBetas_auto) <- finalBetas_auto[,1]\n",
    "finalBetas_auto <- finalBetas_auto[,-1]\n",
    "colnames(finalBetas_auto)<-gsub(\"X\",\"\", colnames(finalBetas_auto))\n",
    "finalBetas_auto <- finalBetas_auto[, order(colnames(finalBetas_auto))]\n",
    "\n",
    "finalBetas_x <- data.frame(fread(\"methylation_analysis/data/finalBetas_X_Imp.txt\", stringsAsFactors = FALSE))\n",
    "rownames(finalBetas_x) <- finalBetas_x[,1]\n",
    "finalBetas_x <- finalBetas_x[,-1]\n",
    "colnames(finalBetas_x)<-gsub(\"X\",\"\", colnames(finalBetas_x))\n",
    "finalBetas_x <- finalBetas_x[, order(colnames(finalBetas_x))]\n",
    "\n",
    "finalBetasImp <- rbind(finalBetas_auto, finalBetas_x)\n",
    "\n",
    "rm(finalBetas_auto, finalBetas_x)\n",
    "\n",
    "## Non-imputed Betas\n",
    "finalBetas_auto.nonimp <- data.frame(fread(\"methylation_analysis/data/finalBetas_autos_NonImp.txt\", stringsAsFactors = FALSE))\n",
    "rownames(finalBetas_auto.nonimp) <- finalBetas_auto.nonimp[,1]\n",
    "finalBetas_auto.nonimp <- finalBetas_auto.nonimp[,-1]\n",
    "colnames(finalBetas_auto.nonimp)<-gsub(\"X\",\"\", colnames(finalBetas_auto.nonimp))\n",
    "finalBetas_auto.nonimp <- finalBetas_auto.nonimp[, order(colnames(finalBetas_auto.nonimp))]\n",
    "\n",
    "finalBetas_x.nonimp <- data.frame(fread(\"methylation_analysis/data/finalBetas_X_NonImp.txt\", stringsAsFactors = FALSE))\n",
    "rownames(finalBetas_x.nonimp) <- finalBetas_x.nonimp[,1]\n",
    "finalBetas_x.nonimp <- finalBetas_x.nonimp[,-1]\n",
    "colnames(finalBetas_x.nonimp)<-gsub(\"X\",\"\", colnames(finalBetas_x.nonimp))\n",
    "finalBetas_x.nonimp <- finalBetas_x.nonimp[, order(colnames(finalBetas_x.nonimp))]\n",
    "\n",
    "finalBetasNonImp <- rbind(finalBetas_auto.nonimp, finalBetas_x.nonimp)\n",
    "rm(finalBetas_auto.nonimp, finalBetas_x.nonimp)\n",
    "\n",
    "finalBetasNonImp <- finalBetasNonImp[,match(rownames(meta), colnames(finalBetasNonImp))]\n",
    "finalBetasImp <- finalBetasImp[,match(rownames(meta), colnames(finalBetasImp))]"
   ]
  },
  {
   "cell_type": "markdown",
   "metadata": {},
   "source": [
    "## Performing Principal Component Analysis"
   ]
  },
  {
   "cell_type": "code",
   "execution_count": null,
   "metadata": {
    "name": "pca"
   },
   "outputs": [],
   "source": [
    "pca <- prcomp(t(na.omit(finalBetasImp)))$x"
   ]
  },
  {
   "cell_type": "markdown",
   "metadata": {},
   "source": [
    "## Writing function to regress out the effects of the PCs from the beta values"
   ]
  },
  {
   "cell_type": "code",
   "execution_count": null,
   "metadata": {
    "name": "regression"
   },
   "outputs": [],
   "source": [
    "Beta_adjusted <- function(x) {\n",
    "  tmp <- lm(as.numeric(x) ~ pca[,1] + pca[,2], na.action=na.exclude)\n",
    "  beta_tmp <- tmp$residuals + tmp$coefficients[1]\n",
    "  names(beta_tmp)<-colnames(finalBetasNonImp)[as.numeric(names(beta_tmp))]\n",
    "  beta_tmp <- beta_tmp[colnames(finalBetasNonImp)]\n",
    "  names(beta_tmp)<-colnames(finalBetasNonImp)\n",
    "  return(beta_tmp)\n",
    "}\n",
    "\n",
    "adjusted_betas <- apply(na.omit(finalBetasNonImp), 1, Beta_adjusted)\n",
    "adjusted_betas <- data.frame(adjusted_betas)"
   ]
  },
  {
   "cell_type": "markdown",
   "metadata": {},
   "source": [
    "## Importing RNA-seq Data\n",
    "\n",
    "Now that the methylation data has been processed, the RNA-seq counts data will be imported to start building our model"
   ]
  },
  {
   "cell_type": "code",
   "execution_count": null,
   "metadata": {
    "name": "import rna"
   },
   "outputs": [],
   "source": [
    "## Import the RNA-seq data\n",
    "expression_data <- read.delim(\"rna-seq_analysis/data/GSE196070_raw_counts_matrix.txt\")\n",
    "colnames(expression_data)<-gsub(\"X\",\"\", colnames(expression_data))\n",
    "\n",
    "expression_data$symbol <- make.unique(as.character(expression_data$symbol), sep=\"_\")\n",
    "\n",
    "rownames(expression_data) <- expression_data$symbol\n",
    "expression_data <- expression_data[,-1]\n",
    "\n",
    "expression_data_meta <- expression_data[,colnames(expression_data) %in% meta$RNA.seq.data.ID]\n",
    "colnames(expression_data_meta) <- rownames(meta)[match(colnames(expression_data_meta), meta$RNA.seq.data.ID)]\n",
    "expression_data_meta <- expression_data_meta[,order(colnames(expression_data_meta))]\n",
    "\n",
    "expression_data <- cbind(expression_data[,1:3], expression_data_meta)\n",
    "meta_rna <- meta[na.omit(match(colnames(expression_data), rownames(meta))),]"
   ]
  },
  {
   "cell_type": "markdown",
   "metadata": {},
   "source": [
    "## Filtering and Processing the Counts Data as was performed in the RNA-seq analysis"
   ]
  },
  {
   "cell_type": "code",
   "execution_count": null,
   "metadata": {
    "lines_to_next_cell": 2,
    "name": "rna processing"
   },
   "outputs": [],
   "source": [
    "group <- factor(meta_rna$SLE.SSc)\n",
    "y <- DGEList(counts=expression_data[,4:ncol(expression_data)],group=group)\n",
    "keep <- filterByExpr(y)\n",
    "y <- y[keep,,keep.lib.sizes=FALSE]\n",
    "y <- calcNormFactors(y, method = \"TMM\")\n",
    "tmm <- cpm(y)"
   ]
  },
  {
   "cell_type": "markdown",
   "metadata": {},
   "source": [
    "## Annotating the Methylation Data for the top CpGs (FDR < 0.45)"
   ]
  },
  {
   "cell_type": "code",
   "execution_count": null,
   "metadata": {},
   "outputs": [],
   "source": [
    "na.omit(match(top.associated.cpgs$CpG,colnames(adjusted_betas))) %>% head()\n",
    "\n",
    "top.associated.cpgs %>% head()"
   ]
  },
  {
   "cell_type": "code",
   "execution_count": null,
   "metadata": {
    "lines_to_next_cell": 2,
    "name": "methylation annotation"
   },
   "outputs": [],
   "source": [
    "top.associated.cpgs <- data.frame(fread(\"methylation_analysis/output/methylated_genes.txt\", stringsAsFactors = FALSE))\n",
    "\n",
    "top.associated.cpgs <- top.associated.cpgs %>% filter(p.adjusted < 0.45)\n",
    "top.associated.betas <- adjusted_betas[,match(top.associated.cpgs$CpG,colnames(adjusted_betas))]\n",
    "\n",
    "EPIC <- getAnnotation(IlluminaHumanMethylationEPICanno.ilm10b2.hg19)\n",
    "\n",
    "EPIC <- as.data.frame(EPIC) %>% filter(rownames(.) %in% top.associated.cpgs$CpG) %>% arrange(match(rownames(.), top.associated.cpgs$CpG))\n",
    "EPIC  <- as_tibble(EPIC)\n",
    "\n",
    "EPIC.granges <- data.frame(EPIC[,1:2])\n",
    "EPIC.granges$stop <- EPIC.granges$pos+5\n",
    "EPIC.granges$CpG <- EPIC$Name\n",
    "\n",
    "colnames(EPIC.granges) <- c(\"chr\", \"start\", \"stop\", \"CpG\")\n",
    "\n",
    "genes <- annotateTranscripts(TxDb.Hsapiens.UCSC.hg19.knownGene, annotationPackage = \"org.Hs.eg.db\")\n",
    "cpgs <- makeGRangesFromDataFrame(EPIC.granges)\n",
    "\n",
    "\n",
    "epic.genes <- matchGenes(cpgs,genes)\n",
    "\n",
    "EPIC$GencodeBasicV12_NAME <- epic.genes$name\n",
    "cpgs$Gene <- epic.genes$name\n",
    "cpgs$CpG <- EPIC.granges$CpG\n",
    "\n",
    "EPIC <- EPIC %>% dplyr::select(chr, pos, Relation_to_Island, GencodeBasicV12_NAME, Name)"
   ]
  },
  {
   "cell_type": "markdown",
   "metadata": {},
   "source": [
    "## Annotating the top RNA-seq Analysis Transcripts (FDR < 0.4)"
   ]
  },
  {
   "cell_type": "code",
   "execution_count": null,
   "metadata": {
    "name": "rna annotation"
   },
   "outputs": [],
   "source": [
    "##-- Annotating Gene Expression Data for regression\n",
    "countMeta <- read.delim(\"top_1500_gene_regions_fdr.txt\")\n",
    "rownames(countMeta) <- countMeta[,1]\n",
    "countMeta[,1] <- NULL\n",
    "\n",
    "countMeta <- as.data.frame(countMeta) %>% filter(FDR < 0.4)\n",
    "\n",
    "##-- Subsetting the data to top genes\n",
    "countData.subset <- as.data.frame(tmm) %>% filter(rownames(.) %in% rownames(countMeta)) %>% arrange(match(rownames(.), rownames(countMeta)))\n",
    "\n",
    "# Matching meta to count data\n",
    "countData.meta <- countMeta %>% filter(rownames(.) %in% rownames(countData.subset)) %>% arrange(match(rownames(.), rownames(countData.subset)))"
   ]
  },
  {
   "cell_type": "markdown",
   "metadata": {},
   "source": [
    "## For each of the transcripts, find all the CpG's 100kb up and downstream of promoter site"
   ]
  },
  {
   "cell_type": "code",
   "execution_count": null,
   "metadata": {
    "name": "cpg rna integration",
    "warning": false
   },
   "outputs": [],
   "source": [
    "## Making Granges object from the RNA metasheet\n",
    "rna.granges <- data.frame(chr=countData.meta$Chr, start=countData.meta$Start-100000, stop=countData.meta$End+100000)\n",
    "\n",
    "rna.granges.list <- list()\n",
    "rna.transcripts <- list()\n",
    "\n",
    "for (i in 1:nrow(rna.granges)){\n",
    "   rna.granges.list[[i]] <- rna.granges[i,] \n",
    "}\n",
    "\n",
    "for (i in 1:length(rna.granges.list)){\n",
    "    rna.transcript=makeGRangesFromDataFrame(rna.granges.list[i])\n",
    "    overlaps <- subsetByOverlaps(cpgs, rna.transcript)\n",
    "    rna.transcripts[[i]] <- data.frame(overlaps) # %>% distinct(Gene, .keep_all = TRUE)\n",
    "    rna.transcripts$CpG <- cpgs$CpG[match(rna.transcripts[[i]]$Gene, cpgs$Gene)]\n",
    "}\n"
   ]
  },
  {
   "cell_type": "markdown",
   "metadata": {},
   "source": [
    "## Performing the eQTM Analysis\n",
    "\n",
    "To perform the eQTM analysis, a linear regression model was used with the transcript score being the outcome with methylation score (beta value) being considered a fixed effect along with age. "
   ]
  },
  {
   "cell_type": "code",
   "execution_count": null,
   "metadata": {
    "lines_to_next_cell": 2,
    "name": "FDR eQTM regression"
   },
   "outputs": [],
   "source": [
    "beta.values <- list()\n",
    "cpg.regression.values <- list()\n",
    "regression.df <- data.frame()\n",
    "\n",
    "for (i in 1:length(rna.transcripts)){\n",
    "  for (j in 1:nrow(as.data.frame(rna.transcripts[i]))){\n",
    "    tmp <- as.data.frame(rna.transcripts[i])\n",
    "    \n",
    "    if(nrow(tmp) != 0){\n",
    "      methylation.data <- top.associated.betas[,na.omit(match(tmp$CpG[j], colnames(top.associated.betas)))]           \n",
    "    } else{\n",
    "      methylation.data <- data.frame(0)\n",
    "    }\n",
    "    \n",
    "    \n",
    "    if(length(methylation.data) > 1){\n",
    "      regression <- lm(as.numeric(countData.subset[i,]) ~ methylation.data + as.numeric(meta_rna$Age.at.enrollment))\n",
    "      coefficient <- data.frame(summary(regression)$coeff[2,1])\n",
    "      pval  <- data.frame(summary(regression)$coeff[2,4])\n",
    "      transcript <- rownames(countData.subset)[i]\n",
    "      \n",
    "      regression.value <- cbind(transcript, coefficient, pval)\n",
    "      \n",
    "    } else{\n",
    "      regression.value = data.frame(0)\n",
    "    }\n",
    "    \n",
    "    if(j==1 && regression.value != 0){\n",
    "      regression.df <- data.frame()\n",
    "      names(regression.value) <- c(\"transcript\",\"coefficient\", \"pval\")\n",
    "      regression.df <- rbind(regression.df, regression.value)\n",
    "    } else if (j > 1 && regression.value != 0){\n",
    "      names(regression.value) <- c(\"transcript\",\"coefficient\", \"pval\")\n",
    "      regression.df <- rbind(regression.df, regression.value)\n",
    "    }\n",
    "    \n",
    "    if(j==nrow(as.data.frame(rna.transcripts[i])) && j>0 && length(as.data.frame(rna.transcripts[i])) > 1){\n",
    "      regression.df <- cbind(as.data.frame(rna.transcripts[i])$Gene, as.data.frame(rna.transcripts[i])$CpG, as.data.frame(rna.transcripts[i])$seqnames, as.data.frame(rna.transcripts[i])$start, regression.df)\n",
    "      colnames(regression.df) <- c(\"CpG_Gene\", \"CpG\", \"Chr\", \"Position\", \"Transcript\",\"coefficient\", \"pval\")\n",
    "      cpg.regression.values[[i]] <- regression.df %>% arrange(pval)\n",
    "      names(cpg.regression.values[[i]]) <- c(\"CpG_Gene\", \"CpG\", \"CpG_Chr\", \"Position\", \"Transcript\", \"coefficient\", \"pval\")\n",
    "    } else{\n",
    "      cpg.regression.values[[i]] <- data.frame(0)\n",
    "    }\n",
    "  }\n",
    "}\n",
    "\n",
    "cpg.regression.values <- cpg.regression.values[lapply(cpg.regression.values,length)>1]\n",
    "\n",
    "total.cpg.regression.values <- cpg.regression.values\n",
    "\n",
    "\n",
    "eQTM_results_FDR <- rbindlist(total.cpg.regression.values, use.names=FALSE, fill=FALSE, idcol=NULL) %>% arrange(pval)\n",
    "\n",
    "eQTM_results_FDR "
   ]
  },
  {
   "cell_type": "markdown",
   "metadata": {},
   "source": [
    "## Second model using expanding number of CpGs to any below 99% FDR (148 CpGs)\n",
    "This allows for more CpGs to be analyzed should any have biological relevance but not considered previously due to not meeting the initial FDR threshold."
   ]
  },
  {
   "cell_type": "code",
   "execution_count": null,
   "metadata": {
    "lines_to_next_cell": 2,
    "name": "methylation annotation 2"
   },
   "outputs": [],
   "source": [
    "top.associated.cpgs <- data.frame(fread(\"methylation_analysis/output/methylated_genes.txt\", stringsAsFactors = FALSE))\n",
    "\n",
    "top.associated.cpgs <- top.associated.cpgs %>% filter(p.adjusted < 0.99)\n",
    "top.associated.betas <- adjusted_betas[,match(top.associated.cpgs$CpG,colnames(adjusted_betas))]\n",
    "\n",
    "EPIC <- getAnnotation(IlluminaHumanMethylationEPICanno.ilm10b2.hg19)\n",
    "\n",
    "EPIC <- as.data.frame(EPIC) %>% filter(rownames(.) %in% top.associated.cpgs$CpG) %>% arrange(match(rownames(.), top.associated.cpgs$CpG))\n",
    "EPIC  <- as_tibble(EPIC)\n",
    "\n",
    "EPIC.granges <- data.frame(EPIC[,1:2])\n",
    "EPIC.granges$stop <- EPIC.granges$pos+5\n",
    "EPIC.granges$CpG <- EPIC$Name\n",
    "\n",
    "colnames(EPIC.granges) <- c(\"chr\", \"start\", \"stop\", \"CpG\")\n",
    "\n",
    "genes <- annotateTranscripts(TxDb.Hsapiens.UCSC.hg19.knownGene)\n",
    "cpgs <- makeGRangesFromDataFrame(EPIC.granges)\n",
    "\n",
    "\n",
    "epic.genes <- matchGenes(cpgs,genes)\n",
    "\n",
    "EPIC$GencodeBasicV12_NAME <- epic.genes$name\n",
    "cpgs$Gene <- epic.genes$name\n",
    "cpgs$CpG <- EPIC.granges$CpG\n",
    "\n",
    "EPIC <- EPIC %>% dplyr::select(chr, pos, Relation_to_Island, GencodeBasicV12_NAME, Name)"
   ]
  },
  {
   "cell_type": "markdown",
   "metadata": {},
   "source": [
    "## Annotating the top RNA-seq Analysis Transcripts (FDR < 0.4)"
   ]
  },
  {
   "cell_type": "code",
   "execution_count": null,
   "metadata": {
    "name": "rna annotation 2",
    "warning": false
   },
   "outputs": [],
   "source": [
    "##-- Annotating Gene Expression Data for regression\n",
    "countMeta <- read.delim(\"top_1500_gene_regions_fdr.txt\")\n",
    "rownames(countMeta) <- countMeta[,1]\n",
    "countMeta[,1] <- NULL\n",
    "\n",
    "countMeta <- as.data.frame(countMeta) %>% filter(FDR < 0.4)\n",
    "\n",
    "##-- Subsetting the data to top genes\n",
    "countData.subset <- as.data.frame(tmm) %>% filter(rownames(.) %in% rownames(countMeta)) %>% arrange(match(rownames(.), rownames(countMeta)))\n",
    "\n",
    "# Matching meta to count data\n",
    "countData.meta <- countMeta %>% filter(rownames(.) %in% rownames(countData.subset)) %>% arrange(match(rownames(.), rownames(countData.subset)))"
   ]
  },
  {
   "cell_type": "markdown",
   "metadata": {},
   "source": [
    "## For each of the transcripts, find all the CpG's 100kb up and downstream of promoter site"
   ]
  },
  {
   "cell_type": "code",
   "execution_count": null,
   "metadata": {
    "name": "cpg rna integration 2",
    "warning": false
   },
   "outputs": [],
   "source": [
    "## Making Granges object from the RNA metasheet\n",
    "rna.granges <- data.frame(chr=countData.meta$Chr, start=countData.meta$Start-100000, stop=countData.meta$End+100000)\n",
    "\n",
    "rna.granges.list <- list()\n",
    "rna.transcripts <- list()\n",
    "\n",
    "for (i in 1:nrow(rna.granges)){\n",
    "   rna.granges.list[[i]] <- rna.granges[i,] \n",
    "}\n",
    "\n",
    "for (i in 1:length(rna.granges.list)){\n",
    "    rna.transcript=makeGRangesFromDataFrame(rna.granges.list[i])\n",
    "    overlaps <- subsetByOverlaps(cpgs, rna.transcript)\n",
    "    rna.transcripts[[i]] <- data.frame(overlaps) # %>% distinct(Gene, .keep_all = TRUE)\n",
    "    rna.transcripts$CpG <- cpgs$CpG[match(rna.transcripts[[i]]$Gene, cpgs$Gene)]\n",
    "}\n"
   ]
  },
  {
   "cell_type": "markdown",
   "metadata": {},
   "source": [
    "## Performing the eQTM Analysis\n",
    "\n",
    "To perform the eQTM analysis, a linear regression model was used with the transcript score being the outcome with methylation score (beta value) being considered a fixed effect along with age. "
   ]
  },
  {
   "cell_type": "code",
   "execution_count": null,
   "metadata": {
    "lines_to_next_cell": 0,
    "name": "FDR eQTM regression 2"
   },
   "outputs": [],
   "source": [
    "beta.values <- list()\n",
    "cpg.regression.values <- list()\n",
    "regression.df <- data.frame()\n",
    "\n",
    "for (i in 1:length(rna.transcripts)){\n",
    "  for (j in 1:nrow(as.data.frame(rna.transcripts[i]))){\n",
    "    tmp <- as.data.frame(rna.transcripts[i])\n",
    "    \n",
    "    if(nrow(tmp) != 0){\n",
    "      methylation.data <- top.associated.betas[,na.omit(match(tmp$CpG[j], colnames(top.associated.betas)))]           \n",
    "    } else{\n",
    "      methylation.data <- data.frame(0)\n",
    "    }\n",
    "    \n",
    "    \n",
    "    if(length(methylation.data) > 1){\n",
    "      regression <- lm(as.numeric(countData.subset[i,]) ~ methylation.data + as.numeric(meta_rna$Age.at.enrollment))\n",
    "      coefficient <- data.frame(summary(regression)$coeff[2,1])\n",
    "      pval  <- data.frame(summary(regression)$coeff[2,4])\n",
    "      transcript <- rownames(countData.subset)[i]\n",
    "      \n",
    "      regression.value <- cbind(transcript, coefficient, pval)\n",
    "      \n",
    "    } else{\n",
    "      regression.value = data.frame(0)\n",
    "    }\n",
    "    \n",
    "    if(j==1 && regression.value != 0){\n",
    "      regression.df <- data.frame()\n",
    "      names(regression.value) <- c(\"transcript\",\"coefficient\", \"pval\")\n",
    "      regression.df <- rbind(regression.df, regression.value)\n",
    "    } else if (j > 1 && regression.value != 0){\n",
    "      names(regression.value) <- c(\"transcript\",\"coefficient\", \"pval\")\n",
    "      regression.df <- rbind(regression.df, regression.value)\n",
    "    }\n",
    "    \n",
    "    if(j==nrow(as.data.frame(rna.transcripts[i])) && j>0 && length(as.data.frame(rna.transcripts[i])) > 1){\n",
    "      regression.df <- cbind(as.data.frame(rna.transcripts[i])$Gene, as.data.frame(rna.transcripts[i])$CpG, as.data.frame(rna.transcripts[i])$seqnames, as.data.frame(rna.transcripts[i])$start, regression.df)\n",
    "      colnames(regression.df) <- c(\"CpG_Gene\", \"CpG\", \"Chr\", \"Position\", \"Transcript\",\"coefficient\", \"pval\")\n",
    "      cpg.regression.values[[i]] <- regression.df %>% arrange(pval)\n",
    "      names(cpg.regression.values[[i]]) <- c(\"CpG_Gene\", \"CpG\", \"CpG_Chr\", \"Position\", \"Transcript\", \"coefficient\", \"pval\")\n",
    "    } else{\n",
    "      cpg.regression.values[[i]] <- data.frame(0)\n",
    "    }\n",
    "  }\n",
    "}\n",
    "\n",
    "cpg.regression.values <- cpg.regression.values[lapply(cpg.regression.values,length)>1]\n",
    "\n",
    "total.cpg.regression.values <- cpg.regression.values\n",
    "\n",
    "\n",
    "eQTM_results_expanded <- rbindlist(total.cpg.regression.values, use.names=FALSE, fill=FALSE, idcol=NULL) %>% arrange(pval)\n",
    "\n",
    "eQTM_results_expanded "
   ]
  },
  {
   "cell_type": "markdown",
   "metadata": {},
   "source": [
    "\n",
    "\n",
    "\n",
    "\n",
    "\n",
    "\n",
    "\n",
    "\n",
    "\n",
    "\n",
    "\n",
    "\n",
    "\n",
    "\n",
    "\n",
    "\n",
    "\n",
    "\n",
    "\n",
    "\n",
    "\n",
    "\n",
    "\n",
    "\n",
    "\n",
    "\n",
    "\n"
   ]
  }
 ],
 "metadata": {
  "jupytext": {
   "cell_metadata_filter": "warning,name,tags,-all",
   "main_language": "R",
   "notebook_metadata_filter": "-all"
  },
  "kernelspec": {
   "display_name": "R",
   "language": "R",
   "name": "ir"
  },
  "language_info": {
   "codemirror_mode": "r",
   "file_extension": ".r",
   "mimetype": "text/x-r-source",
   "name": "R",
   "pygments_lexer": "r",
   "version": "4.0.1"
  }
 },
 "nbformat": 4,
 "nbformat_minor": 4
}

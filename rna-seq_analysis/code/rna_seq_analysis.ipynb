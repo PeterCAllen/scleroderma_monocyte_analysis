{
 "cells": [
  {
   "cell_type": "markdown",
   "metadata": {},
   "source": [
    "# RNA-Seq Analysis\n",
    "## Author: Peter Allen"
   ]
  },
   {
   "cell_type": "code",
   "execution_count": null,
   "metadata": {
    "name": "import libraries"
   },
   "outputs": [],
   "source": [
    "library(data.table)\n",
    "library(readxl)\n",
    "library(dplyr)\n",
    "library(Haplin)\n",
    "library(IlluminaHumanMethylationEPICanno.ilm10b2.hg19)\n",
    "library(TxDb.Hsapiens.UCSC.hg19.knownGene)\n",
    "library(GenomicFeatures)\n",
    "library(edgeR)\n",
    "library(statmod)\n",
    "library(gplots)"
   ]
  },
  {
   "cell_type": "markdown",
   "metadata": {},
   "source": [
    "## Importing metadata & expression data"
   ]
  },
  {
   "cell_type": "code",
   "execution_count": null,
   "metadata": {
    "name": "import"
   },
   "outputs": [],
   "source": [
    "meta <- data.frame(read_excel(\"data/RNA_SampleData.xlsx\", col_types = c(\"skip\", \"text\", \"numeric\", \"skip\", \"skip\", \"text\", \"numeric\", \"text\", \"skip\", \"text\", \"skip\"), na = c(\".\", \"N/A\")))\n",
    "\n",
    "##-- Filtering out bad samples/duplicates\n",
    "meta  <- meta %>% filter(!is.na(RNA.seq.data.ID) & \n",
    "                         Gender != \"Male\" &\n",
    "                         RNA.seq.data.ID != c(34, 36))\n",
    "\n",
    "\n",
    "expression_data <- read.delim(\"data/GSE196070_raw_counts_matrix.txt\")\n",
    "colnames(expression_data)<-gsub(\"X\",\"\", colnames(expression_data))\n",
    "\n",
    "expression_data$symbol <- make.unique(as.character(expression_data$symbol), sep=\"_\")\n",
    "\n",
    "rownames(expression_data) <- expression_data$symbol\n",
    "expression_data <- expression_data[,-1]"
   ]
  },
  {
   "cell_type": "markdown",
   "metadata": {},
   "source": [
    "## Sorting the metasheet to match the Counts "
   ]
  },
  {
   "cell_type": "code",
   "execution_count": null,
   "metadata": {
    "name": "sorting and assigning groups"
   },
   "outputs": [],
   "source": [
    "meta.sorted  <- meta[na.omit(match(colnames(expression_data), meta$RNA.seq.data.ID)),]\n",
    "counts.sorted  <- expression_data[,match(meta.sorted$RNA.seq.data.ID, colnames(expression_data))]\n",
    "counts.sorted  <- cbind(expression_data[,1:3], counts.sorted)\n",
    "\n",
    "group <- factor(meta.sorted$SLE.SSc)\n",
    "\n",
    "design <- model.matrix(~0+group)\n",
    "colnames(design) <- levels(group)"
   ]
  },
  {
   "cell_type": "markdown",
   "metadata": {},
   "source": [
    "## Creating an edgeR object with the count and metadata stored -> Filtration -> Normalization\n",
    "\n",
    "Here, an edgeR object is being created with the sorted count file and associated metadata. The object count data is then filtered by expression using edgeR's filter by expression function which takes into account the library sizes and the experimental design. \n",
    "\n",
    "After filtration, the data is then normalized using the trimmed mean of M values (TMM) method. "
   ]
  },
  {
   "cell_type": "code",
   "execution_count": null,
   "metadata": {
    "name": "edgeR"
   },
   "outputs": [],
   "source": [
    "y <- DGEList(counts=counts.sorted[,4:ncol(counts.sorted)],group=group)\n",
    "\n",
    "keep <- filterByExpr(y, design)\n",
    "y <- y[keep,,keep.lib.sizes=FALSE]\n",
    "y <- calcNormFactors(y, method = \"TMM\")\n",
    "tmm <- cpm(y)"
   ]
  },
  {
   "cell_type": "markdown",
   "metadata": {
    "lines_to_next_cell": 0
   },
   "source": [
    "## Differences between Samples\n",
    "\n",
    "To get a better understanding of what our data looks like, the count data was clustered in two dimensions using multi-dimensional scaling (MDS) plots. With the exception of the bottom left quadrant, the samples do not appear to be too different from one another."
   ]
  },
  {
   "cell_type": "code",
   "execution_count": null,
   "metadata": {
    "name": "MDS Plot",
    "tags": [
     "remove_input"
    ]
   },
   "outputs": [],
   "source": [
    "pch <- c(15,16)\n",
    "colors <- c(\"darkgreen\", \"red\")\n",
    "plotMDS(y, col=colors[group], pch=pch[group])\n",
    "legend(\"topleft\", legend=levels(group), pch=pch, col=colors, ncol=2)"
   ]
  },
  {
   "cell_type": "markdown",
   "metadata": {},
   "source": [
    "## Dispersion Estimation averaged over all genes"
   ]
  },
  {
   "cell_type": "code",
   "execution_count": null,
   "metadata": {
    "lines_to_next_cell": 2,
    "name": "Dispersion Estimation",
    "tags": [
     "remove_input"
    ]
   },
   "outputs": [],
   "source": [
    "y <- estimateDisp(y, design, robust=TRUE)\n",
    "plotBCV(y)"
   ]
  },
  {
   "cell_type": "markdown",
   "metadata": {},
   "source": [
    "## Processing the Count Data\n",
    "\n",
    "To take into consideration the biological and non-biological variance in gene expression, a quasi-likelihood method was used and the data tested for differential expression."
   ]
  },
  {
   "cell_type": "code",
   "execution_count": null,
   "metadata": {
    "lines_to_next_cell": 2,
    "name": "GLM QL - Differential Expression"
   },
   "outputs": [],
   "source": [
    "fit <- glmQLFit(y, design, robust=TRUE)\n",
    "\n",
    "contrast <- makeContrasts(SSc-Control, levels=design)\n",
    "\n",
    "res <- glmQLFTest(fit, contrast=contrast)\n",
    "\n",
    "is.de <- decideTestsDGE(res)\n",
    "summary(is.de)\n",
    "\n",
    "topTags(res, n=20)"
   ]
  },
  {
   "cell_type": "markdown",
   "metadata": {
    "lines_to_next_cell": 0
   },
   "source": [
    "## Multi-dimensional Plot"
   ]
  },
  {
   "cell_type": "code",
   "execution_count": null,
   "metadata": {
    "name": "Differential Expression Plot",
    "tags": [
     "remove_input"
    ]
   },
   "outputs": [],
   "source": [
    "plotMD(res, status=is.de, values=c(1,-1), col=c(\"red\",\"blue\"),\n",
    "       legend=\"topright\")"
   ]
  },
  {
   "cell_type": "markdown",
   "metadata": {
    "lines_to_next_cell": 0
   },
   "source": [
    "From the Multi-dimensional plot and the summary, it should be noted that that there were not any significant up-regulated or down-regulated genes between the two groups. This is most likely due to sample size, but while there were not significant genes found, the top genes could be intersected with methylation data and analyzed for any potential biological effects occurring in Scleroderma.\n",
    "\n",
    "## Heatmap Clustering of Data"
   ]
  },
  {
   "cell_type": "code",
   "execution_count": null,
   "metadata": {
    "lines_to_next_cell": 0,
    "name": "Heatmap",
    "tags": [
     "remove_input"
    ]
   },
   "outputs": [],
   "source": [
    "logCPM <- cpm(y, prior.count=2, log=TRUE)\n",
    "colnames(logCPM) <- paste(y$samples$group, 1:length(y$samples$group), sep=\"-\")\n",
    "\n",
    "o <- order(res$table$PValue)\n",
    "logCPM <- logCPM[o[1:30],]\n",
    "\n",
    "logCPM <- t(scale(t(logCPM)))\n",
    "\n",
    "col.pan <- colorpanel(100, \"blue\", \"white\", \"red\")\n",
    "heatmap.2(logCPM, col=col.pan, Rowv=TRUE, scale=\"none\", \n",
    "          trace=\"none\", dendrogram=\"both\", cexRow=1, cexCol=1.4, density.info=\"none\",\n",
    "          margin=c(10,9), lhei=c(2,10), lwid=c(2,6))\n"
   ]
  },
  {
   "cell_type": "markdown",
   "metadata": {},
   "source": [
    "\n",
    "\n",
    "\n",
    "\n",
    "\n",
    "\n",
    "\n",
    "\n",
    "\n",
    "\n",
    "\n",
    "\n",
    "\n",
    "\n",
    "\n",
    "\n",
    "\n",
    "\n",
    "\n",
    "\n",
    "\n"
   ]
  }
 ],
 "metadata": {
  "jupytext": {
   "cell_metadata_filter": "name,tags,-all",
   "main_language": "R",
   "notebook_metadata_filter": "-all"
  },
  "kernelspec": {
   "display_name": "R",
   "language": "R",
   "name": "ir"
  },
  "language_info": {
   "codemirror_mode": "r",
   "file_extension": ".r",
   "mimetype": "text/x-r-source",
   "name": "R",
   "pygments_lexer": "r",
   "version": "4.0.1"
  }
 },
 "nbformat": 4,
 "nbformat_minor": 4
}
